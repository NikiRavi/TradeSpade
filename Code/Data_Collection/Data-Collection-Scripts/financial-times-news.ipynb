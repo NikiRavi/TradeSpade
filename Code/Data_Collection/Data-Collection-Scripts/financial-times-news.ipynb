{
 "cells": [
  {
   "cell_type": "markdown",
   "metadata": {},
   "source": [
    "# Financial Times Data Collection"
   ]
  },
  {
   "cell_type": "markdown",
   "metadata": {},
   "source": [
    "## Objective"
   ]
  },
  {
   "cell_type": "markdown",
   "metadata": {},
   "source": [
    "Collecting Financial news using Financial Times API\n",
    "\n",
    "1. Financial news is collected from 1st January 2018 till 27th Feb 2019 [1 Year] for all 10 CryptoCurrencies\n",
    "2. Then Vader NLTK Library is used to extract sentiment based on the titles of the news"
   ]
  },
  {
   "cell_type": "code",
   "execution_count": 5,
   "metadata": {},
   "outputs": [
    {
     "name": "stdout",
     "output_type": "stream",
     "text": [
      "\u001b[1;31m 100 news articles till  2019-03-05 19:48:58+00:00  have been downloaded!  \u001b[0m\n",
      "\u001b[1;31m 200 news articles till  2019-03-01 04:00:36+00:00  have been downloaded!  \u001b[0m\n",
      "\u001b[1;31m 300 news articles till  2019-02-26 07:28:47+00:00  have been downloaded!  \u001b[0m\n",
      "\u001b[1;31m 400 news articles till  2019-02-21 23:08:29+00:00  have been downloaded!  \u001b[0m\n",
      "\u001b[1;31m 500 news articles till  2019-02-19 02:17:50+00:00  have been downloaded!  \u001b[0m\n",
      "\u001b[1;31m 600 news articles till  2019-02-14 13:10:20+00:00  have been downloaded!  \u001b[0m\n",
      "\u001b[1;31m 700 news articles till  2019-02-12 01:35:02+00:00  have been downloaded!  \u001b[0m\n",
      "\u001b[1;31m 800 news articles till  2019-02-07 23:08:51+00:00  have been downloaded!  \u001b[0m\n",
      "\u001b[1;31m 900 news articles till  2019-02-05 11:16:54+00:00  have been downloaded!  \u001b[0m\n",
      "\u001b[1;31m 1000 news articles till  2019-02-01 04:00:26+00:00  have been downloaded!  \u001b[0m\n",
      "\u001b[1;31m 1100 news articles till  2019-01-30 00:01:00+00:00  have been downloaded!  \u001b[0m\n",
      "\u001b[1;31m 1200 news articles till  2019-01-27 12:17:05+00:00  have been downloaded!  \u001b[0m\n",
      "\u001b[1;31m 1300 news articles till  2019-01-23 16:49:38+00:00  have been downloaded!  \u001b[0m\n",
      "\u001b[1;31m 1400 news articles till  2019-01-20 22:47:07+00:00  have been downloaded!  \u001b[0m\n",
      "\u001b[1;31m 1500 news articles till  2019-01-16 16:22:36+00:00  have been downloaded!  \u001b[0m\n"
     ]
    }
   ],
   "source": [
    "import requests\n",
    "import json\n",
    "import pprint\n",
    "import pandas as pd\n",
    "from dateutil import parser\n",
    "import datetime\n",
    "\n",
    "import sqlite3\n",
    "conn = sqlite3.connect(\"CMPT733.db\")\n",
    "c = conn.cursor()\n",
    "\n",
    "\n",
    "def request_API(section,date_value):\n",
    "    url = 'http://api.ft.com/content/search/v1'\n",
    "    headers = {'X-Api-Key' : '59cbaf20e3e06d3565778e7b28c851de723045908bc1a78c97add437', 'Accept' : 'application/json', 'Content-Type' : 'application/x-www-form-urlencoded'}\n",
    "    query_string = 'sections:\\\"'+section+'\\\" AND lastPublishDateTime:<'+date_value+''\n",
    "    f = {\n",
    "        \"queryString\": query_string,\n",
    "        \"resultContext\" : {\n",
    "             \"aspects\" :[  \"title\",\"lifecycle\",\"location\",\"summary\",\"editorial\" ]\n",
    "        }\n",
    "    }\n",
    "    r = requests.post(url, json = f, headers=headers)\n",
    "    return r\n",
    "\n",
    "def unpack_dictionary_columns(df, columns, fillna=None):\n",
    "    ret = None\n",
    "    for column in columns:\n",
    "        if fillna is None:\n",
    "            ret = pd.concat([df, pd.DataFrame((d for idx, d in df[column].iteritems()))], axis=1)\n",
    "            del ret[column]\n",
    "        else:\n",
    "            ret = pd.concat([df, pd.DataFrame((d for idx, d in df[column].iteritems())).fillna(fillna)], axis=1)\n",
    "            del ret[column]\n",
    "            df = ret\n",
    "    return ret\n",
    "\n",
    "\n",
    "def convert_to_dataframe(api_result):\n",
    "    api_response = api_result['results'][0]['results']\n",
    "    dictionary_to_df = pd.DataFrame.from_dict(api_response).\\\n",
    "                                rename(columns={'title': 'page_title'})\n",
    "    dictionary_columns = ['editorial','lifecycle','location','summary','page_title']\n",
    "    news_df = unpack_dictionary_columns(dictionary_to_df, dictionary_columns, 0)\n",
    "    return news_df\n",
    "\n",
    "requested_min_limit = datetime.datetime.now().replace(tzinfo=datetime.timezone(datetime.timedelta(0), 'UTC'))\n",
    "required_time_limit = parser.parse('2019-01-20T00:00:00Z') #Example time set\n",
    "total_requests = 0\n",
    "while (requested_min_limit > required_time_limit ):\n",
    "    format_requested_min_limit = requested_min_limit.replace(microsecond=0).isoformat().replace('+00:00', 'Z')\n",
    "    api_result = request_API(\"Markets\",format_requested_min_limit).json()\n",
    "    news_df = convert_to_dataframe(api_result)\n",
    "    news_df.to_sql('TBAssetNews', con=conn, if_exists='append')\n",
    "    requested_min_limit =  parser.parse(news_df.lastPublishDateTime.min())\n",
    "    total_requests = total_requests + 100\n",
    "    print('\\x1b[1;31m',total_requests,'news articles till ',requested_min_limit,' have been downloaded! ', '\\x1b[0m')"
   ]
  },
  {
   "cell_type": "code",
   "execution_count": 57,
   "metadata": {},
   "outputs": [
    {
     "data": {
      "text/html": [
       "<div>\n",
       "<style scoped>\n",
       "    .dataframe tbody tr th:only-of-type {\n",
       "        vertical-align: middle;\n",
       "    }\n",
       "\n",
       "    .dataframe tbody tr th {\n",
       "        vertical-align: top;\n",
       "    }\n",
       "\n",
       "    .dataframe thead th {\n",
       "        text-align: right;\n",
       "    }\n",
       "</style>\n",
       "<table border=\"1\" class=\"dataframe\">\n",
       "  <thead>\n",
       "    <tr style=\"text-align: right;\">\n",
       "      <th></th>\n",
       "      <th>aspectSet</th>\n",
       "      <th>title</th>\n",
       "      <th>subheading</th>\n",
       "      <th>created_utc</th>\n",
       "      <th>uri</th>\n",
       "    </tr>\n",
       "  </thead>\n",
       "  <tbody>\n",
       "    <tr>\n",
       "      <th>0</th>\n",
       "      <td>article</td>\n",
       "      <td>China’s housing glut casts pall over the economy</td>\n",
       "      <td>A building binge has left cities with 65m empt...</td>\n",
       "      <td>2019-02-19T23:30:24Z</td>\n",
       "      <td>https://www.ft.com/content/51891b6a-30ca-11e9-...</td>\n",
       "    </tr>\n",
       "    <tr>\n",
       "      <th>1</th>\n",
       "      <td>article</td>\n",
       "      <td>Fast Asia Open: Japan trade data, Australia wages</td>\n",
       "      <td>0</td>\n",
       "      <td>2019-02-19T23:12:12Z</td>\n",
       "      <td>https://www.ft.com/content/b553343e-3497-11e9-...</td>\n",
       "    </tr>\n",
       "  </tbody>\n",
       "</table>\n",
       "</div>"
      ],
      "text/plain": [
       "  aspectSet                                              title  \\\n",
       "0   article   China’s housing glut casts pall over the economy   \n",
       "1   article  Fast Asia Open: Japan trade data, Australia wages   \n",
       "\n",
       "                                          subheading           created_utc  \\\n",
       "0  A building binge has left cities with 65m empt...  2019-02-19T23:30:24Z   \n",
       "1                                                  0  2019-02-19T23:12:12Z   \n",
       "\n",
       "                                                 uri  \n",
       "0  https://www.ft.com/content/51891b6a-30ca-11e9-...  \n",
       "1  https://www.ft.com/content/b553343e-3497-11e9-...  "
      ]
     },
     "execution_count": 57,
     "metadata": {},
     "output_type": "execute_result"
    }
   ],
   "source": [
    "# Convert all json downloaded files to pandas df\n",
    "df = pd.read_sql(\"SELECT * FROM TBAssetNews\", conn)\n",
    "complete_df = df[['aspectSet','title', 'subheading', 'lastPublishDateTime', 'uri']].rename(index=str, columns={'lastPublishDateTime':'created_utc'})\n",
    "complete_df.head(2)"
   ]
  },
  {
   "cell_type": "code",
   "execution_count": 19,
   "metadata": {},
   "outputs": [
    {
     "name": "stdout",
     "output_type": "stream",
     "text": [
      "\u001b[1;31m Total number of Financial News Articles downloaded \u001b[0m 25000\n"
     ]
    }
   ],
   "source": [
    "print('\\x1b[1;31m Total number of Financial News Articles downloaded \\x1b[0m',len(complete_df))"
   ]
  },
  {
   "cell_type": "code",
   "execution_count": 51,
   "metadata": {},
   "outputs": [
    {
     "name": "stderr",
     "output_type": "stream",
     "text": [
      "[nltk_data] Downloading package vader_lexicon to\n",
      "[nltk_data]     /home/abejju/nltk_data...\n",
      "[nltk_data]   Package vader_lexicon is already up-to-date!\n"
     ]
    }
   ],
   "source": [
    "#Converting Titles to Sentiment Score\n",
    "import nltk # be sure to have stopwords installed for this using nltk.download_shell()\n",
    "import pandas as pd \n",
    "import string\n",
    "import sqlite3\n",
    "from nltk.sentiment.vader import SentimentIntensityAnalyzer as SIA\n",
    "nltk.download('vader_lexicon')\n",
    "def get_polarity_scores(x):\n",
    "    value = str(x[1]) + ' ' +str(x[2])\n",
    "    return sia.polarity_scores(value)\n",
    "\n",
    "conn = sqlite3.connect(\"CMPT733.db\")\n",
    "c = conn.cursor()\n",
    "\n",
    "sia = SIA()\n",
    "sentiment = complete_df.apply(get_polarity_scores,1)\n",
    "complete_df=pd.concat([complete_df,sentiment.apply(pd.Series)],1)\n",
    "complete_df.head(20)\n",
    "complete_df.to_sql('TBProcessedAssetNews', con=conn, if_exists='append')"
   ]
  },
  {
   "cell_type": "code",
   "execution_count": 63,
   "metadata": {},
   "outputs": [
    {
     "name": "stderr",
     "output_type": "stream",
     "text": [
      "/usr/local/lib/python3.5/dist-packages/ipykernel_launcher.py:12: FutureWarning: pd.TimeGrouper is deprecated and will be removed; Please use pd.Grouper(freq=...)\n",
      "  if sys.path[0] == '':\n",
      "/usr/local/lib/python3.5/dist-packages/ipykernel_launcher.py:17: FutureWarning: pd.TimeGrouper is deprecated and will be removed; Please use pd.Grouper(freq=...)\n",
      "/usr/local/lib/python3.5/dist-packages/ipykernel_launcher.py:18: FutureWarning: pd.TimeGrouper is deprecated and will be removed; Please use pd.Grouper(freq=...)\n"
     ]
    }
   ],
   "source": [
    "import pandas as pd\n",
    "from dateutil import parser\n",
    "import datetime\n",
    "import time\n",
    "import sqlite3\n",
    "conn = sqlite3.connect(\"CMPT733.db\")\n",
    "c = conn.cursor()\n",
    "\n",
    "df = pd.read_sql(\"SELECT * FROM TBProcessedAssetNews\", conn)\n",
    "df['created_utc'] = pd.to_datetime(df['created_utc'],infer_datetime_format=True)\n",
    "\n",
    "ap = df.set_index('created_utc').groupby([pd.TimeGrouper('H')]).mean()\n",
    "ap = ap.reset_index()\n",
    "def row_to_list(x,col_name):\n",
    "    return list(x[col_name])\n",
    "\n",
    "fp = df.set_index('created_utc').groupby([pd.TimeGrouper('H')]).apply(lambda x: row_to_list(x,'title')).reset_index(name='title').dropna()\n",
    "kp = df.set_index('created_utc').groupby([pd.TimeGrouper('H')]).apply(lambda x: row_to_list(x,'subheading')).reset_index(name='subheading').dropna()\n",
    "\n",
    "ap = ap[['created_utc', 'compound', 'neg', 'neu', 'pos']]\n",
    "\n",
    "result = pd.merge(ap,fp, how='inner',on=['created_utc'])\n",
    "result = pd.merge(result,kp, how='inner',on=['created_utc'])\n"
   ]
  },
  {
   "cell_type": "code",
   "execution_count": 66,
   "metadata": {},
   "outputs": [],
   "source": [
    "# Store the processed data in json\n",
    "result = result.fillna(0)\n",
    "result.to_json('processed_financial_news.json',orient='records',date_format='iso')"
   ]
  },
  {
   "cell_type": "code",
   "execution_count": 67,
   "metadata": {
    "collapsed": true
   },
   "outputs": [],
   "source": [
    "# read the processed data in json\n",
    "import pandas as pd\n",
    "from dateutil import parser\n",
    "import datetime\n",
    "import time\n",
    "result = pd.read_json('processed_financial_news.json')\n",
    "result['created_utc'] = pd.to_datetime(result['created_utc'],infer_datetime_format=True)"
   ]
  },
  {
   "cell_type": "code",
   "execution_count": 88,
   "metadata": {},
   "outputs": [
    {
     "data": {
      "text/html": [
       "<div>\n",
       "<style scoped>\n",
       "    .dataframe tbody tr th:only-of-type {\n",
       "        vertical-align: middle;\n",
       "    }\n",
       "\n",
       "    .dataframe tbody tr th {\n",
       "        vertical-align: top;\n",
       "    }\n",
       "\n",
       "    .dataframe thead th {\n",
       "        text-align: right;\n",
       "    }\n",
       "</style>\n",
       "<table border=\"1\" class=\"dataframe\">\n",
       "  <thead>\n",
       "    <tr style=\"text-align: right;\">\n",
       "      <th></th>\n",
       "      <th>title</th>\n",
       "      <th>subheading</th>\n",
       "      <th>created_utc</th>\n",
       "      <th>compound</th>\n",
       "      <th>neg</th>\n",
       "      <th>neu</th>\n",
       "      <th>pos</th>\n",
       "    </tr>\n",
       "  </thead>\n",
       "  <tbody>\n",
       "    <tr>\n",
       "      <th>0</th>\n",
       "      <td>[Fast Asia Open: Singapore GDP, Thailand forex...</td>\n",
       "      <td>[0]</td>\n",
       "      <td>2017-02-16 22:00:00+00:00</td>\n",
       "      <td>0.000000</td>\n",
       "      <td>0.0000</td>\n",
       "      <td>1.000</td>\n",
       "      <td>0.0000</td>\n",
       "    </tr>\n",
       "    <tr>\n",
       "      <th>1</th>\n",
       "      <td>[]</td>\n",
       "      <td>[]</td>\n",
       "      <td>2017-02-16 23:00:00+00:00</td>\n",
       "      <td>0.000000</td>\n",
       "      <td>0.0000</td>\n",
       "      <td>0.000</td>\n",
       "      <td>0.0000</td>\n",
       "    </tr>\n",
       "    <tr>\n",
       "      <th>2</th>\n",
       "      <td>[Sterling's puzzling purple patch, Singapore Q...</td>\n",
       "      <td>[0, 0, Wall Street broke its longest winning s...</td>\n",
       "      <td>2017-02-17 00:00:00+00:00</td>\n",
       "      <td>0.368767</td>\n",
       "      <td>0.0350</td>\n",
       "      <td>0.775</td>\n",
       "      <td>0.1900</td>\n",
       "    </tr>\n",
       "    <tr>\n",
       "      <th>3</th>\n",
       "      <td>[Return of $1bn block trade energises Hong Kon...</td>\n",
       "      <td>[Bank and telecoms sales raise hopes for reviv...</td>\n",
       "      <td>2017-02-17 01:00:00+00:00</td>\n",
       "      <td>0.726900</td>\n",
       "      <td>0.0970</td>\n",
       "      <td>0.602</td>\n",
       "      <td>0.3010</td>\n",
       "    </tr>\n",
       "    <tr>\n",
       "      <th>4</th>\n",
       "      <td>[Offshore renminbi weakens past onshore rate, ...</td>\n",
       "      <td>[0, 0]</td>\n",
       "      <td>2017-02-17 02:00:00+00:00</td>\n",
       "      <td>0.000000</td>\n",
       "      <td>0.1575</td>\n",
       "      <td>0.719</td>\n",
       "      <td>0.1235</td>\n",
       "    </tr>\n",
       "  </tbody>\n",
       "</table>\n",
       "</div>"
      ],
      "text/plain": [
       "                                               title  \\\n",
       "0  [Fast Asia Open: Singapore GDP, Thailand forex...   \n",
       "1                                                 []   \n",
       "2  [Sterling's puzzling purple patch, Singapore Q...   \n",
       "3  [Return of $1bn block trade energises Hong Kon...   \n",
       "4  [Offshore renminbi weakens past onshore rate, ...   \n",
       "\n",
       "                                          subheading  \\\n",
       "0                                                [0]   \n",
       "1                                                 []   \n",
       "2  [0, 0, Wall Street broke its longest winning s...   \n",
       "3  [Bank and telecoms sales raise hopes for reviv...   \n",
       "4                                             [0, 0]   \n",
       "\n",
       "                created_utc  compound     neg    neu     pos  \n",
       "0 2017-02-16 22:00:00+00:00  0.000000  0.0000  1.000  0.0000  \n",
       "1 2017-02-16 23:00:00+00:00  0.000000  0.0000  0.000  0.0000  \n",
       "2 2017-02-17 00:00:00+00:00  0.368767  0.0350  0.775  0.1900  \n",
       "3 2017-02-17 01:00:00+00:00  0.726900  0.0970  0.602  0.3010  \n",
       "4 2017-02-17 02:00:00+00:00  0.000000  0.1575  0.719  0.1235  "
      ]
     },
     "execution_count": 88,
     "metadata": {},
     "output_type": "execute_result"
    }
   ],
   "source": [
    "# Final Processed DF\n",
    "result[['title','subheading','created_utc','compound','neg','neu', 'pos']].head(5)"
   ]
  },
  {
   "cell_type": "code",
   "execution_count": 69,
   "metadata": {
    "collapsed": true
   },
   "outputs": [],
   "source": [
    "analysis = result[['compound']]\n",
    "positive_df = analysis.rename({\"compound\":\"positive_news\"},axis='columns')\n",
    "negative_df = analysis.rename({\"compound\":\"negative_news\"},axis='columns')"
   ]
  },
  {
   "cell_type": "code",
   "execution_count": 82,
   "metadata": {},
   "outputs": [
    {
     "name": "stdout",
     "output_type": "stream",
     "text": [
      "[4572, 4861]\n"
     ]
    }
   ],
   "source": [
    "pos = len(result[result[\"compound\"] > 0])\n",
    "neg = len(result[result[\"compound\"] < 0])\n",
    "values = [pos,neg]\n",
    "print (values)"
   ]
  },
  {
   "cell_type": "markdown",
   "metadata": {},
   "source": [
    "## Data Distribution of Financial News Based on Sentiment Score"
   ]
  },
  {
   "cell_type": "code",
   "execution_count": 89,
   "metadata": {},
   "outputs": [
    {
     "data": {
      "image/png": "[encoded data removed]",
      "text/plain": [
       "<matplotlib.figure.Figure at 0x7f8b90a06ef0>"
      ]
     },
     "metadata": {},
     "output_type": "display_data"
    }
   ],
   "source": [
    "import seaborn as sns\n",
    "import matplotlib.pyplot as plt\n",
    "import warnings\n",
    "warnings.filterwarnings('ignore')\n",
    "\n",
    "sns.set_style(\"darkgrid\", {\"axes.facecolor\": \".9\"})\n",
    "g = sns.barplot(['positive_news','negative_news'], values)\n",
    "plt.ylabel(\"News_Count\")\n",
    "plt.gcf().set_size_inches(5.7, 3.27)"
   ]
  },
  {
   "cell_type": "code",
   "execution_count": null,
   "metadata": {
    "collapsed": true
   },
   "outputs": [],
   "source": []
  }
 ],
 "metadata": {
  "kernelspec": {
   "display_name": "Python 3",
   "language": "python",
   "name": "python3"
  },
  "language_info": {
   "codemirror_mode": {
    "name": "ipython",
    "version": 3
   },
   "file_extension": ".py",
   "mimetype": "text/x-python",
   "name": "python",
   "nbconvert_exporter": "python",
   "pygments_lexer": "ipython3",
   "version": "3.5.2"
  }
 },
 "nbformat": 4,
 "nbformat_minor": 2
}

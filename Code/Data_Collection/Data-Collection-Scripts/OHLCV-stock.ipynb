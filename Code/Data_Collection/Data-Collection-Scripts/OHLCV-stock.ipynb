{
 "cells": [
  {
   "cell_type": "markdown",
   "metadata": {},
   "source": [
    "# OHLCV - Stocks Data Collection"
   ]
  },
  {
   "cell_type": "markdown",
   "metadata": {},
   "source": [
    "## Objective"
   ]
  },
  {
   "cell_type": "markdown",
   "metadata": {},
   "source": [
    "Get OHLCV information for the following stocks\n",
    "*'[Walmart Inc.', 'Microsoft Corporation', 'The Home Depot','Alphabet Inc.', 'Apple Inc.', 'Wells Fargo','Chevron Corporation', 'The Coca-Cola Co','Exxon Mobil Corporation']*\n",
    "\n",
    "1. We have used cryptocompare api to get stocks OHLCV information \n",
    "2. The data is collected from 1st January 2018 till 27th Feb 2019 [1 Year] for all 9 stocks"
   ]
  },
  {
   "cell_type": "code",
   "execution_count": 2,
   "metadata": {},
   "outputs": [
    {
     "name": "stdout",
     "output_type": "stream",
     "text": [
      "{'MSFT': 115.91, 'GOOGL': 1190.3, 'HD': 182.23, 'WMT': 98.42, 'CVM': 2.9, 'AAPL': 186.12, 'XOM': 80.15, 'C': 65.19, 'KO': 45.3, 'WFC': 50.66}\n"
     ]
    }
   ],
   "source": [
    "from datetime import datetime\n",
    "from iexfinance.stocks import get_historical_intraday\n",
    "import pandas as pd\n",
    "from iexfinance.stocks import Stock\n",
    "import time\n",
    "\n",
    "stock_list = [\"GOOGL\",\"MSFT\",\"HD\",\"WMT\",\"WFC\",\"C\",\"AAPL\",\"KO\",\"XOM\",\"CVM\"]\n",
    "\n",
    "\n",
    "batch = Stock(stock_list)\n",
    "starttime=time.time()\n",
    "while True:\n",
    "    print(batch.get_price())\n",
    "    time.sleep(3600.0 - ((time.time() - starttime) % 3600.0))\n"
   ]
  },
  {
   "cell_type": "code",
   "execution_count": 8,
   "metadata": {},
   "outputs": [
    {
     "data": {
      "text/html": [
       "<div>\n",
       "<style scoped>\n",
       "    .dataframe tbody tr th:only-of-type {\n",
       "        vertical-align: middle;\n",
       "    }\n",
       "\n",
       "    .dataframe tbody tr th {\n",
       "        vertical-align: top;\n",
       "    }\n",
       "\n",
       "    .dataframe thead th {\n",
       "        text-align: right;\n",
       "    }\n",
       "</style>\n",
       "<table border=\"1\" class=\"dataframe\">\n",
       "  <thead>\n",
       "    <tr style=\"text-align: right;\">\n",
       "      <th></th>\n",
       "      <th>asset_name</th>\n",
       "      <th>open</th>\n",
       "      <th>high</th>\n",
       "      <th>low</th>\n",
       "      <th>close</th>\n",
       "      <th>volume</th>\n",
       "      <th>created_utc</th>\n",
       "      <th>name</th>\n",
       "    </tr>\n",
       "  </thead>\n",
       "  <tbody>\n",
       "    <tr>\n",
       "      <th>0</th>\n",
       "      <td>WMT</td>\n",
       "      <td>88.81</td>\n",
       "      <td>89.43</td>\n",
       "      <td>88.81</td>\n",
       "      <td>88.89</td>\n",
       "      <td>82783</td>\n",
       "      <td>2018-03-12 09:00:00</td>\n",
       "      <td>Walmart Inc.</td>\n",
       "    </tr>\n",
       "    <tr>\n",
       "      <th>1</th>\n",
       "      <td>WMT</td>\n",
       "      <td>88.89</td>\n",
       "      <td>88.99</td>\n",
       "      <td>88.37</td>\n",
       "      <td>88.43</td>\n",
       "      <td>123830</td>\n",
       "      <td>2018-03-12 10:00:00</td>\n",
       "      <td>Walmart Inc.</td>\n",
       "    </tr>\n",
       "    <tr>\n",
       "      <th>2</th>\n",
       "      <td>WMT</td>\n",
       "      <td>88.40</td>\n",
       "      <td>88.55</td>\n",
       "      <td>88.14</td>\n",
       "      <td>88.34</td>\n",
       "      <td>86675</td>\n",
       "      <td>2018-03-12 11:00:00</td>\n",
       "      <td>Walmart Inc.</td>\n",
       "    </tr>\n",
       "    <tr>\n",
       "      <th>3</th>\n",
       "      <td>WMT</td>\n",
       "      <td>88.35</td>\n",
       "      <td>88.38</td>\n",
       "      <td>88.00</td>\n",
       "      <td>88.07</td>\n",
       "      <td>62987</td>\n",
       "      <td>2018-03-12 12:00:00</td>\n",
       "      <td>Walmart Inc.</td>\n",
       "    </tr>\n",
       "  </tbody>\n",
       "</table>\n",
       "</div>"
      ],
      "text/plain": [
       "  asset_name   open   high    low  close  volume         created_utc  \\\n",
       "0        WMT  88.81  89.43  88.81  88.89   82783 2018-03-12 09:00:00   \n",
       "1        WMT  88.89  88.99  88.37  88.43  123830 2018-03-12 10:00:00   \n",
       "2        WMT  88.40  88.55  88.14  88.34   86675 2018-03-12 11:00:00   \n",
       "3        WMT  88.35  88.38  88.00  88.07   62987 2018-03-12 12:00:00   \n",
       "\n",
       "           name  \n",
       "0  Walmart Inc.  \n",
       "1  Walmart Inc.  \n",
       "2  Walmart Inc.  \n",
       "3  Walmart Inc.  "
      ]
     },
     "execution_count": 8,
     "metadata": {},
     "output_type": "execute_result"
    }
   ],
   "source": [
    "# Convert all json downloaded files to pandas df\n",
    "import pandas as pd\n",
    "from os import listdir\n",
    "from os.path import isfile, join\n",
    "mypath = 'Data/Stocks-data'\n",
    "\n",
    "complete_df=pd.DataFrame()\n",
    "\n",
    "onlyfiles = [f for f in listdir(mypath) if isfile(join(mypath, f))]\n",
    "\n",
    "for file_name in onlyfiles:\n",
    "    path_file_name = \"Data/Stocks-data/\"+file_name\n",
    "    if '._' not in path_file_name:\n",
    "        df = pd.read_csv(path_file_name)\n",
    "        complete_df=complete_df.append(df,ignore_index=True)\n",
    "complete_df[\"created_utc\"] = complete_df[\"<DATE>\"].astype(str).map(str) + complete_df[\"<TIME>\"].astype(str)\n",
    "\n",
    "complete_df[\"created_utc\"] = pd.to_datetime(complete_df[\"created_utc\"],format='%Y%m%d%H%M%S').dt.tz_localize(None)\n",
    "complete_df=complete_df.drop(['<PER>', '<DATE>', '<TIME>'], axis=1)\n",
    "complete_df = complete_df.rename(index=str, columns={'<TICKER>':'asset_name', '<OPEN>':'open', '<HIGH>':'high', '<LOW>':'low','<CLOSE>':'close', '<VOL>':'volume'})\n",
    "df_st = pd.read_json('Hourly-Processed-Data/stocks-used.json')\n",
    "result = pd.merge(complete_df,\n",
    "                 df_st,\n",
    "                 on='asset_name')\n",
    "result.head(4)\n",
    "#result.to_json('stocks.json',orient='records',date_format='iso')"
   ]
  },
  {
   "cell_type": "code",
   "execution_count": 9,
   "metadata": {},
   "outputs": [
    {
     "name": "stdout",
     "output_type": "stream",
     "text": [
      "\u001b[1;31m OHLCV Data for Stocks \u001b[0m\n"
     ]
    },
    {
     "data": {
      "text/html": [
       "<div>\n",
       "<style scoped>\n",
       "    .dataframe tbody tr th:only-of-type {\n",
       "        vertical-align: middle;\n",
       "    }\n",
       "\n",
       "    .dataframe tbody tr th {\n",
       "        vertical-align: top;\n",
       "    }\n",
       "\n",
       "    .dataframe thead th {\n",
       "        text-align: right;\n",
       "    }\n",
       "</style>\n",
       "<table border=\"1\" class=\"dataframe\">\n",
       "  <thead>\n",
       "    <tr style=\"text-align: right;\">\n",
       "      <th></th>\n",
       "      <th>name</th>\n",
       "      <th>asset_name</th>\n",
       "    </tr>\n",
       "  </thead>\n",
       "  <tbody>\n",
       "    <tr>\n",
       "      <th>0</th>\n",
       "      <td>Alphabet Inc.</td>\n",
       "      <td>1741</td>\n",
       "    </tr>\n",
       "    <tr>\n",
       "      <th>1</th>\n",
       "      <td>Apple Inc.</td>\n",
       "      <td>1741</td>\n",
       "    </tr>\n",
       "    <tr>\n",
       "      <th>2</th>\n",
       "      <td>Chevron Corporation</td>\n",
       "      <td>1741</td>\n",
       "    </tr>\n",
       "    <tr>\n",
       "      <th>3</th>\n",
       "      <td>Citigroup</td>\n",
       "      <td>1741</td>\n",
       "    </tr>\n",
       "    <tr>\n",
       "      <th>4</th>\n",
       "      <td>Exxon Mobil Corporation</td>\n",
       "      <td>1741</td>\n",
       "    </tr>\n",
       "    <tr>\n",
       "      <th>5</th>\n",
       "      <td>Goldman Sachs Group</td>\n",
       "      <td>1660</td>\n",
       "    </tr>\n",
       "    <tr>\n",
       "      <th>6</th>\n",
       "      <td>Microsoft Corporation</td>\n",
       "      <td>1741</td>\n",
       "    </tr>\n",
       "    <tr>\n",
       "      <th>7</th>\n",
       "      <td>The Coca-Cola Co</td>\n",
       "      <td>1741</td>\n",
       "    </tr>\n",
       "    <tr>\n",
       "      <th>8</th>\n",
       "      <td>The Home Depot</td>\n",
       "      <td>1741</td>\n",
       "    </tr>\n",
       "    <tr>\n",
       "      <th>9</th>\n",
       "      <td>Walmart Inc.</td>\n",
       "      <td>1741</td>\n",
       "    </tr>\n",
       "    <tr>\n",
       "      <th>10</th>\n",
       "      <td>Wells Fargo</td>\n",
       "      <td>1741</td>\n",
       "    </tr>\n",
       "  </tbody>\n",
       "</table>\n",
       "</div>"
      ],
      "text/plain": [
       "                       name  asset_name\n",
       "0             Alphabet Inc.        1741\n",
       "1                Apple Inc.        1741\n",
       "2       Chevron Corporation        1741\n",
       "3                 Citigroup        1741\n",
       "4   Exxon Mobil Corporation        1741\n",
       "5       Goldman Sachs Group        1660\n",
       "6     Microsoft Corporation        1741\n",
       "7          The Coca-Cola Co        1741\n",
       "8            The Home Depot        1741\n",
       "9              Walmart Inc.        1741\n",
       "10              Wells Fargo        1741"
      ]
     },
     "execution_count": 9,
     "metadata": {},
     "output_type": "execute_result"
    }
   ],
   "source": [
    "print('\\x1b[1;31m OHLCV Data for Stocks \\x1b[0m')\n",
    "crypto_data = pd.read_json('Hourly-Processed-Data/stocks.json')\n",
    "crypto_data.groupby('name').asset_name.count().reset_index()\n"
   ]
  }
 ],
 "metadata": {
  "kernelspec": {
   "display_name": "Python 3",
   "language": "python",
   "name": "python3"
  },
  "language_info": {
   "codemirror_mode": {
    "name": "ipython",
    "version": 3
   },
   "file_extension": ".py",
   "mimetype": "text/x-python",
   "name": "python",
   "nbconvert_exporter": "python",
   "pygments_lexer": "ipython3",
   "version": "3.5.2"
  }
 },
 "nbformat": 4,
 "nbformat_minor": 2
}

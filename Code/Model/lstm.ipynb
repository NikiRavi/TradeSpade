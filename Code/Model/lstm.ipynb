{
 "cells": [
  {
   "cell_type": "code",
   "execution_count": 4,
   "metadata": {},
   "outputs": [],
   "source": [
    "import pandas as pd\n",
    "df=pd.read_json(\"processed_crypto.json\")\n",
    "df_litecoin=df[df['asset_name']=='Litecoin']\n"
   ]
  },
  {
   "cell_type": "code",
   "execution_count": 5,
   "metadata": {},
   "outputs": [],
   "source": [
    "df_date_created=df_litecoin.sort_values('created_utc')\n",
    "df_date_created['created_utc']=df_date_created['created_utc'].str.slice(0,10)\n",
    "df_date_created['sma20']=df_date_created['open'].rolling(window=20).mean()\n",
    "df_date_created['high-low']=df_date_created['sma20'].shift(-1)-df_date_created['sma20']\n"
   ]
  },
  {
   "cell_type": "code",
   "execution_count": 6,
   "metadata": {},
   "outputs": [],
   "source": [
    "df_date_created['buy-sell'] = df_date_created['high-low'].apply(lambda x: 0 if x <=0 else 1)"
   ]
  },
  {
   "cell_type": "code",
   "execution_count": 7,
   "metadata": {},
   "outputs": [],
   "source": [
    "train_x=df_date_created[ (df_date_created['created_utc'].str.slice(0,4)== '2018')]\n",
    "train_y=train_x['buy-sell']\n",
    "train_x=train_x.drop(columns=['fin_subheading','news_title','news_url','reddit_title','symbol','tweet_text','tweet_text','asset_name','created_utc','reddit_domain','tweet_hashtags','fin_title','buy-sell',])\n"
   ]
  },
  {
   "cell_type": "code",
   "execution_count": 8,
   "metadata": {},
   "outputs": [],
   "source": [
    "test_x=df_date_created[ (df_date_created['created_utc'].str.slice(0,4)== '2019') ]\n",
    "test_y=test_x['buy-sell']\n",
    "test_x=test_x.drop(columns=['fin_subheading','news_title','news_url','reddit_title','symbol','tweet_text','tweet_text','asset_name','created_utc','reddit_domain','tweet_hashtags','fin_title','buy-sell'])\n"
   ]
  },
  {
   "cell_type": "code",
   "execution_count": 9,
   "metadata": {},
   "outputs": [],
   "source": [
    "\n",
    "train_x=train_x.fillna(train_x.mean())\n",
    "\n",
    "test_x=test_x.fillna(test_x.mean())\n"
   ]
  },
  {
   "cell_type": "code",
   "execution_count": 10,
   "metadata": {},
   "outputs": [
    {
     "name": "stderr",
     "output_type": "stream",
     "text": [
      "/Users/mananparasher/anaconda3/lib/python3.6/site-packages/sklearn/preprocessing/data.py:617: DataConversionWarning: Data with input dtype int64, float64 were all converted to float64 by StandardScaler.\n",
      "  return self.partial_fit(X, y)\n",
      "/Users/mananparasher/anaconda3/lib/python3.6/site-packages/ipykernel_launcher.py:4: DataConversionWarning: Data with input dtype int64, float64 were all converted to float64 by StandardScaler.\n",
      "  after removing the cwd from sys.path.\n"
     ]
    }
   ],
   "source": [
    "from sklearn.preprocessing import StandardScaler\n",
    "x_scaler = StandardScaler()\n",
    "x_scaler.fit(train_x)\n",
    "X_train=x_scaler.transform(train_x)\n"
   ]
  },
  {
   "cell_type": "code",
   "execution_count": 27,
   "metadata": {},
   "outputs": [],
   "source": [
    "lookback= 100\n",
    "\n",
    "X=[]\n",
    "for i in range(len(X_train)-lookback-1):\n",
    "    t=[]\n",
    "    for j in range(0,lookback):\n",
    "        \n",
    "        t.append(X_train[[(i+j)], :])\n",
    "    X.append(t)\n"
   ]
  },
  {
   "cell_type": "code",
   "execution_count": 36,
   "metadata": {},
   "outputs": [],
   "source": [
    "# import numpy as np\n",
    "\n",
    "X= np.array(X)\n",
    "\n",
    "X = X.reshape(X.shape[0],lookback, 30)\n"
   ]
  },
  {
   "cell_type": "code",
   "execution_count": 12,
   "metadata": {},
   "outputs": [],
   "source": [
    "import numpy as np\n",
    "train_y=np.reshape(list(train_y),(8252,-1))"
   ]
  },
  {
   "cell_type": "code",
   "execution_count": 13,
   "metadata": {},
   "outputs": [
    {
     "name": "stderr",
     "output_type": "stream",
     "text": [
      "/Users/mananparasher/anaconda3/lib/python3.6/site-packages/sklearn/utils/validation.py:590: DataConversionWarning: Data with input dtype int64 was converted to float64 by StandardScaler.\n",
      "  warnings.warn(msg, DataConversionWarning)\n",
      "/Users/mananparasher/anaconda3/lib/python3.6/site-packages/sklearn/utils/validation.py:590: DataConversionWarning: Data with input dtype int64 was converted to float64 by StandardScaler.\n",
      "  warnings.warn(msg, DataConversionWarning)\n"
     ]
    }
   ],
   "source": [
    "from sklearn.preprocessing import StandardScaler\n",
    "y_scaler = StandardScaler()\n",
    "y_scaler.fit(train_y)\n",
    "Y_train=y_scaler.transform(train_y)\n",
    "#print(Y_train)"
   ]
  },
  {
   "cell_type": "code",
   "execution_count": 23,
   "metadata": {},
   "outputs": [],
   "source": [
    "lookback= 100\n",
    "\n",
    "P=[]\n",
    "for i in range(len(Y_train)-lookback-1):\n",
    "    t=[]\n",
    "    for j in range(0,lookback):\n",
    "        \n",
    "        t.append(Y_train[[(i+j)], :])\n",
    "    P.append(t)"
   ]
  },
  {
   "cell_type": "code",
   "execution_count": 34,
   "metadata": {},
   "outputs": [
    {
     "data": {
      "text/plain": [
       "array([[[ 1.10863221],\n",
       "        [ 1.10863221],\n",
       "        [ 1.10863221],\n",
       "        ...,\n",
       "        [-0.9020124 ],\n",
       "        [-0.9020124 ],\n",
       "        [-0.9020124 ]],\n",
       "\n",
       "       [[ 1.10863221],\n",
       "        [ 1.10863221],\n",
       "        [ 1.10863221],\n",
       "        ...,\n",
       "        [-0.9020124 ],\n",
       "        [-0.9020124 ],\n",
       "        [-0.9020124 ]],\n",
       "\n",
       "       [[ 1.10863221],\n",
       "        [ 1.10863221],\n",
       "        [ 1.10863221],\n",
       "        ...,\n",
       "        [-0.9020124 ],\n",
       "        [-0.9020124 ],\n",
       "        [-0.9020124 ]],\n",
       "\n",
       "       ...,\n",
       "\n",
       "       [[-0.9020124 ],\n",
       "        [-0.9020124 ],\n",
       "        [-0.9020124 ],\n",
       "        ...,\n",
       "        [-0.9020124 ],\n",
       "        [-0.9020124 ],\n",
       "        [-0.9020124 ]],\n",
       "\n",
       "       [[-0.9020124 ],\n",
       "        [-0.9020124 ],\n",
       "        [-0.9020124 ],\n",
       "        ...,\n",
       "        [-0.9020124 ],\n",
       "        [-0.9020124 ],\n",
       "        [-0.9020124 ]],\n",
       "\n",
       "       [[-0.9020124 ],\n",
       "        [-0.9020124 ],\n",
       "        [-0.9020124 ],\n",
       "        ...,\n",
       "        [-0.9020124 ],\n",
       "        [-0.9020124 ],\n",
       "        [-0.9020124 ]]])"
      ]
     },
     "execution_count": 34,
     "metadata": {},
     "output_type": "execute_result"
    }
   ],
   "source": [
    "#Y\n",
    "#P= np.array(P)\n",
    "\n",
    "#P = np.reshape(P.shape[0],100, 30)\n",
    "\n",
    "#P=P.reshape((8151,100,-1))\n",
    "\n",
    "#print(P.shape[0])\n",
    "P"
   ]
  },
  {
   "cell_type": "code",
   "execution_count": 35,
   "metadata": {},
   "outputs": [
    {
     "name": "stderr",
     "output_type": "stream",
     "text": [
      "Using TensorFlow backend.\n"
     ]
    }
   ],
   "source": [
    "from keras.models import Sequential\n",
    "from keras.layers import Dense\n",
    "from keras.layers import LSTM\n",
    "from keras.layers import Dropout"
   ]
  },
  {
   "cell_type": "code",
   "execution_count": 37,
   "metadata": {},
   "outputs": [
    {
     "name": "stdout",
     "output_type": "stream",
     "text": [
      "Epoch 1/10\n",
      "8151/8151 [==============================] - 60s 7ms/step - loss: 0.4672\n",
      "Epoch 2/10\n",
      "8151/8151 [==============================] - 57s 7ms/step - loss: 0.2634\n",
      "Epoch 3/10\n",
      "8151/8151 [==============================] - 56s 7ms/step - loss: 0.2011\n",
      "Epoch 4/10\n",
      "8151/8151 [==============================] - 56s 7ms/step - loss: 0.1609\n",
      "Epoch 5/10\n",
      "8151/8151 [==============================] - 57s 7ms/step - loss: 0.1295\n",
      "Epoch 6/10\n",
      "8151/8151 [==============================] - 56s 7ms/step - loss: 0.1030\n",
      "Epoch 7/10\n",
      "8151/8151 [==============================] - 56s 7ms/step - loss: 0.0807\n",
      "Epoch 8/10\n",
      "8151/8151 [==============================] - 58s 7ms/step - loss: 0.0649\n",
      "Epoch 9/10\n",
      "8151/8151 [==============================] - 59s 7ms/step - loss: 0.0555\n",
      "Epoch 10/10\n",
      "8151/8151 [==============================] - 59s 7ms/step - loss: 0.0488\n"
     ]
    },
    {
     "data": {
      "text/plain": [
       "<keras.callbacks.History at 0x1adbfa13c8>"
      ]
     },
     "execution_count": 37,
     "metadata": {},
     "output_type": "execute_result"
    }
   ],
   "source": [
    "# Initialising the RNN\n",
    "regressor = Sequential()\n",
    "\n",
    "# Adding the first LSTM layer and some Dropout regularisation\n",
    "regressor.add(LSTM(units = 50, return_sequences = True, input_shape = (X.shape[1], 30)))\n",
    "regressor.add(Dropout(0.2))\n",
    "\n",
    "# Adding the output layer\n",
    "regressor.add(Dense(units = 1))\n",
    "\n",
    "# Compiling the RNN\n",
    "regressor.compile(optimizer = 'adam', loss = 'mean_squared_error')\n",
    "\n",
    "# Fitting the RNN to the Training set\n",
    "regressor.fit(X, P, epochs = 10, batch_size = 32)\n",
    "\n"
   ]
  },
  {
   "cell_type": "code",
   "execution_count": 38,
   "metadata": {},
   "outputs": [
    {
     "name": "stderr",
     "output_type": "stream",
     "text": [
      "/Users/mananparasher/anaconda3/lib/python3.6/site-packages/ipykernel_launcher.py:1: DataConversionWarning: Data with input dtype int64, float64 were all converted to float64 by StandardScaler.\n",
      "  \"\"\"Entry point for launching an IPython kernel.\n"
     ]
    }
   ],
   "source": [
    "X_test=x_scaler.transform(test_x)"
   ]
  },
  {
   "cell_type": "code",
   "execution_count": 40,
   "metadata": {},
   "outputs": [],
   "source": [
    "lookback= 100\n",
    "\n",
    "X_t=[]\n",
    "for i in range(len(X_test)-lookback-1):\n",
    "    t=[]\n",
    "    for j in range(0,lookback):\n",
    "        \n",
    "        t.append(X_test[[(i+j)], :])\n",
    "    X_t.append(t)"
   ]
  },
  {
   "cell_type": "code",
   "execution_count": 41,
   "metadata": {},
   "outputs": [],
   "source": [
    "X_t= np.array(X_t)\n",
    "\n",
    "X_t = X_t.reshape(X_t.shape[0],lookback, 30)"
   ]
  },
  {
   "cell_type": "code",
   "execution_count": 43,
   "metadata": {},
   "outputs": [],
   "source": [
    "predict=regressor.predict(X_t)"
   ]
  },
  {
   "cell_type": "code",
   "execution_count": 44,
   "metadata": {},
   "outputs": [
    {
     "data": {
      "text/plain": [
       "array([[[-0.3165479 ],\n",
       "        [-0.5993393 ],\n",
       "        [-0.8515247 ],\n",
       "        ...,\n",
       "        [ 1.0727148 ],\n",
       "        [ 0.97724515],\n",
       "        [ 0.6436561 ]],\n",
       "\n",
       "       [[-0.39922106],\n",
       "        [-0.8410439 ],\n",
       "        [-0.96485126],\n",
       "        ...,\n",
       "        [ 0.97719854],\n",
       "        [ 0.6435336 ],\n",
       "        [ 1.2416967 ]],\n",
       "\n",
       "       [[-0.4585289 ],\n",
       "        [-0.87377673],\n",
       "        [-0.68136686],\n",
       "        ...,\n",
       "        [ 0.64345753],\n",
       "        [ 1.2416888 ],\n",
       "        [ 0.78712386]],\n",
       "\n",
       "       ...,\n",
       "\n",
       "       [[ 0.6646121 ],\n",
       "        [ 0.43546742],\n",
       "        [ 0.29105976],\n",
       "        ...,\n",
       "        [ 0.4001961 ],\n",
       "        [ 0.43204466],\n",
       "        [-0.01189166]],\n",
       "\n",
       "       [[ 0.26583174],\n",
       "        [ 0.14321303],\n",
       "        [ 0.1844428 ],\n",
       "        ...,\n",
       "        [ 0.43204919],\n",
       "        [-0.0118862 ],\n",
       "        [-0.13347292]],\n",
       "\n",
       "       [[ 0.10331939],\n",
       "        [ 0.14082636],\n",
       "        [ 0.53782827],\n",
       "        ...,\n",
       "        [-0.01188823],\n",
       "        [-0.13347466],\n",
       "        [-0.5513614 ]]], dtype=float32)"
      ]
     },
     "execution_count": 44,
     "metadata": {},
     "output_type": "execute_result"
    }
   ],
   "source": [
    "predict"
   ]
  },
  {
   "cell_type": "code",
   "execution_count": 45,
   "metadata": {},
   "outputs": [],
   "source": [
    " b = predict.ravel()"
   ]
  },
  {
   "cell_type": "code",
   "execution_count": 49,
   "metadata": {},
   "outputs": [
    {
     "name": "stdout",
     "output_type": "stream",
     "text": [
      "109800\n"
     ]
    }
   ],
   "source": []
  },
  {
   "cell_type": "code",
   "execution_count": 51,
   "metadata": {},
   "outputs": [],
   "source": [
    "#= np.array(P)\n",
    "predicted_stock_price = y_scaler.inverse_transform(predict)\n",
    "\n",
    "#P=P.reshape((8151,100,-1))\n"
   ]
  },
  {
   "cell_type": "code",
   "execution_count": 53,
   "metadata": {},
   "outputs": [
    {
     "name": "stdout",
     "output_type": "stream",
     "text": [
      "109800\n"
     ]
    }
   ],
   "source": [
    "B= b.flatten()\n",
    "print(len(B))"
   ]
  },
  {
   "cell_type": "code",
   "execution_count": null,
   "metadata": {},
   "outputs": [],
   "source": []
  },
  {
   "cell_type": "code",
   "execution_count": null,
   "metadata": {},
   "outputs": [],
   "source": []
  }
 ],
 "metadata": {
  "kernelspec": {
   "display_name": "Python 3",
   "language": "python",
   "name": "python3"
  },
  "language_info": {
   "codemirror_mode": {
    "name": "ipython",
    "version": 3
   },
   "file_extension": ".py",
   "mimetype": "text/x-python",
   "name": "python",
   "nbconvert_exporter": "python",
   "pygments_lexer": "ipython3",
   "version": "3.6.8"
  }
 },
 "nbformat": 4,
 "nbformat_minor": 2
}

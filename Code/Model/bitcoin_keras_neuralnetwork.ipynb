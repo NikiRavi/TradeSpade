{
 "cells": [
  {
   "cell_type": "code",
   "execution_count": 1,
   "metadata": {},
   "outputs": [],
   "source": [
    "import pandas as pd"
   ]
  },
  {
   "cell_type": "code",
   "execution_count": 9,
   "metadata": {},
   "outputs": [],
   "source": [
    "df=pd.read_json(\"processed_crypto.json\")\n",
    "df_bitcoin=df[df['asset_name']=='Bitcoin']"
   ]
  },
  {
   "cell_type": "code",
   "execution_count": 10,
   "metadata": {},
   "outputs": [],
   "source": [
    "df_date_created=df_bitcoin.sort_values('created_utc')\n",
    "df_date_created['created_utc']=df_date_created['created_utc'].str.slice(0,10)\n",
    "df_date_created['sma20']=df_date_created['open'].rolling(window=20).mean()\n",
    "df_date_created['high-low']=df_date_created['sma20'].shift(-1)-df_date_created['sma20']"
   ]
  },
  {
   "cell_type": "code",
   "execution_count": 35,
   "metadata": {},
   "outputs": [],
   "source": [
    "df_date_created['buy-sell'] = df_date_created['high-low'].apply(lambda x: 0 if x <=0 else 1)\n"
   ]
  },
  {
   "cell_type": "code",
   "execution_count": 37,
   "metadata": {},
   "outputs": [
    {
     "data": {
      "text/plain": [
       "9451     1\n",
       "9452     1\n",
       "9453     1\n",
       "9454     1\n",
       "9455     1\n",
       "9456     1\n",
       "9457     1\n",
       "9458     1\n",
       "9459     1\n",
       "9460     1\n",
       "9461     1\n",
       "9462     1\n",
       "9463     1\n",
       "9464     1\n",
       "9465     1\n",
       "9466     1\n",
       "9467     1\n",
       "9468     1\n",
       "9469     1\n",
       "9470     0\n",
       "9471     0\n",
       "9472     0\n",
       "9473     0\n",
       "9474     0\n",
       "9475     0\n",
       "9476     0\n",
       "9477     0\n",
       "9478     0\n",
       "9479     0\n",
       "9480     0\n",
       "        ..\n",
       "17673    0\n",
       "17674    1\n",
       "17675    1\n",
       "17676    1\n",
       "17677    1\n",
       "17678    1\n",
       "17679    1\n",
       "17680    1\n",
       "17681    0\n",
       "17682    1\n",
       "17683    0\n",
       "17684    0\n",
       "17685    0\n",
       "17686    0\n",
       "17687    0\n",
       "17688    1\n",
       "17689    0\n",
       "17690    0\n",
       "17691    0\n",
       "17692    0\n",
       "17693    0\n",
       "17694    0\n",
       "17695    0\n",
       "17696    0\n",
       "17697    0\n",
       "17698    0\n",
       "17699    0\n",
       "17700    0\n",
       "17701    0\n",
       "17702    0\n",
       "Name: buy-sell, Length: 8252, dtype: int64"
      ]
     },
     "execution_count": 37,
     "metadata": {},
     "output_type": "execute_result"
    }
   ],
   "source": [
    "train_x=df_date_created[ (df_date_created['created_utc'].str.slice(0,4)== '2018')]\n",
    "train_xx=train_x\n",
    "train_y=train_x['buy-sell']\n",
    "train_x=train_x.drop(columns=['fin_subheading','news_title','news_url','reddit_title','symbol','tweet_text','tweet_text','asset_name','created_utc','reddit_domain','tweet_hashtags','fin_title','buy-sell',])\n"
   ]
  },
  {
   "cell_type": "code",
   "execution_count": 15,
   "metadata": {},
   "outputs": [],
   "source": [
    "test_x=df_date_created[ (df_date_created['created_utc'].str.slice(0,4)== '2019') ]\n",
    "test_xx=test_x\n",
    "test_y=test_x['buy-sell']\n",
    "test_x=test_x.drop(columns=['fin_subheading','news_title','news_url','reddit_title','symbol','tweet_text','tweet_text','asset_name','created_utc','reddit_domain','tweet_hashtags','fin_title','buy-sell'])\n"
   ]
  },
  {
   "cell_type": "code",
   "execution_count": 130,
   "metadata": {},
   "outputs": [
    {
     "name": "stdout",
     "output_type": "stream",
     "text": [
      "Epoch 1/50\n",
      "8252/8252 [==============================] - 9s 1ms/step - loss: 7.9675 - acc: 0.5030\n",
      "Epoch 2/50\n",
      "8252/8252 [==============================] - 3s 387us/step - loss: 7.7719 - acc: 0.5178\n",
      "Epoch 3/50\n",
      "8252/8252 [==============================] - 3s 396us/step - loss: 7.7777 - acc: 0.5175\n",
      "Epoch 4/50\n",
      "8252/8252 [==============================] - 3s 414us/step - loss: 7.7739 - acc: 0.5177\n",
      "Epoch 5/50\n",
      "8252/8252 [==============================] - 3s 411us/step - loss: 7.7739 - acc: 0.5177\n",
      "Epoch 6/50\n",
      "8252/8252 [==============================] - 3s 417us/step - loss: 7.7739 - acc: 0.5177\n",
      "Epoch 7/50\n",
      "8252/8252 [==============================] - 5s 630us/step - loss: 7.7739 - acc: 0.5177\n",
      "Epoch 8/50\n",
      "8252/8252 [==============================] - 5s 625us/step - loss: 7.7739 - acc: 0.5177\n",
      "Epoch 9/50\n",
      "8252/8252 [==============================] - 3s 352us/step - loss: 7.7739 - acc: 0.5177\n",
      "Epoch 10/50\n",
      "8252/8252 [==============================] - 5s 570us/step - loss: 7.7739 - acc: 0.5177\n",
      "Epoch 11/50\n",
      "8252/8252 [==============================] - 6s 768us/step - loss: 7.7739 - acc: 0.5177\n",
      "Epoch 12/50\n",
      "8252/8252 [==============================] - 3s 389us/step - loss: 7.7739 - acc: 0.5177\n",
      "Epoch 13/50\n",
      "8252/8252 [==============================] - 3s 374us/step - loss: 7.7739 - acc: 0.5177\n",
      "Epoch 14/50\n",
      "8252/8252 [==============================] - 7s 873us/step - loss: 7.7777 - acc: 0.5175\n",
      "Epoch 15/50\n",
      "8252/8252 [==============================] - 7s 822us/step - loss: 7.7739 - acc: 0.5177\n",
      "Epoch 16/50\n",
      "8252/8252 [==============================] - 6s 749us/step - loss: 7.7739 - acc: 0.5177\n",
      "Epoch 17/50\n",
      "8252/8252 [==============================] - 4s 479us/step - loss: 7.7739 - acc: 0.5177\n",
      "Epoch 18/50\n",
      "8252/8252 [==============================] - 4s 505us/step - loss: 7.7777 - acc: 0.5175\n",
      "Epoch 19/50\n",
      "8252/8252 [==============================] - 7s 824us/step - loss: 7.7739 - acc: 0.5177\n",
      "Epoch 20/50\n",
      "8252/8252 [==============================] - 7s 812us/step - loss: 7.7739 - acc: 0.5177\n",
      "Epoch 21/50\n",
      "8252/8252 [==============================] - 7s 804us/step - loss: 7.7719 - acc: 0.5178\n",
      "Epoch 22/50\n",
      "8252/8252 [==============================] - 7s 805us/step - loss: 7.7758 - acc: 0.5176\n",
      "Epoch 23/50\n",
      "8252/8252 [==============================] - 8s 986us/step - loss: 7.7739 - acc: 0.5177\n",
      "Epoch 24/50\n",
      "8252/8252 [==============================] - 6s 759us/step - loss: 7.7719 - acc: 0.5178\n",
      "Epoch 25/50\n",
      "8252/8252 [==============================] - 6s 754us/step - loss: 7.7719 - acc: 0.5178\n",
      "Epoch 26/50\n",
      "8252/8252 [==============================] - 6s 785us/step - loss: 7.7700 - acc: 0.5179\n",
      "Epoch 27/50\n",
      "8252/8252 [==============================] - 6s 734us/step - loss: 7.7739 - acc: 0.5177\n",
      "Epoch 28/50\n",
      "8252/8252 [==============================] - 7s 808us/step - loss: 7.7739 - acc: 0.5177\n",
      "Epoch 29/50\n",
      "8252/8252 [==============================] - 7s 850us/step - loss: 7.7739 - acc: 0.5177\n",
      "Epoch 30/50\n",
      "8252/8252 [==============================] - 6s 728us/step - loss: 7.7739 - acc: 0.5177\n",
      "Epoch 31/50\n",
      "8252/8252 [==============================] - 7s 902us/step - loss: 7.7758 - acc: 0.5176\n",
      "Epoch 32/50\n",
      "8252/8252 [==============================] - 6s 758us/step - loss: 7.7739 - acc: 0.5177\n",
      "Epoch 33/50\n",
      "8252/8252 [==============================] - 7s 906us/step - loss: 7.7719 - acc: 0.5178\n",
      "Epoch 34/50\n",
      "8252/8252 [==============================] - 9s 1ms/step - loss: 7.7739 - acc: 0.5177\n",
      "Epoch 35/50\n",
      "8252/8252 [==============================] - 9s 1ms/step - loss: 7.7739 - acc: 0.5177\n",
      "Epoch 36/50\n",
      "8252/8252 [==============================] - 12s 1ms/step - loss: 7.7739 - acc: 0.5177\n",
      "Epoch 37/50\n",
      "8252/8252 [==============================] - 6s 767us/step - loss: 7.7758 - acc: 0.5176\n",
      "Epoch 38/50\n",
      "8252/8252 [==============================] - 6s 772us/step - loss: 7.7739 - acc: 0.5177\n",
      "Epoch 39/50\n",
      "8252/8252 [==============================] - 6s 687us/step - loss: 7.7758 - acc: 0.5176\n",
      "Epoch 40/50\n",
      "8252/8252 [==============================] - 6s 720us/step - loss: 7.7739 - acc: 0.5177\n",
      "Epoch 41/50\n",
      "8252/8252 [==============================] - 6s 767us/step - loss: 7.7739 - acc: 0.5177\n",
      "Epoch 42/50\n",
      "8252/8252 [==============================] - 7s 870us/step - loss: 7.7758 - acc: 0.5176\n",
      "Epoch 43/50\n",
      "8252/8252 [==============================] - 7s 890us/step - loss: 7.7739 - acc: 0.5177\n",
      "Epoch 44/50\n",
      "8252/8252 [==============================] - 7s 802us/step - loss: 7.7739 - acc: 0.5177\n",
      "Epoch 45/50\n",
      "8252/8252 [==============================] - 6s 783us/step - loss: 7.7739 - acc: 0.5177\n",
      "Epoch 46/50\n",
      "8252/8252 [==============================] - 7s 887us/step - loss: 7.7739 - acc: 0.5177\n",
      "Epoch 47/50\n",
      "8252/8252 [==============================] - 9s 1ms/step - loss: 7.7758 - acc: 0.5176\n",
      "Epoch 48/50\n",
      "8252/8252 [==============================] - 7s 908us/step - loss: 7.7739 - acc: 0.5177\n",
      "Epoch 49/50\n",
      "8252/8252 [==============================] - 6s 674us/step - loss: 7.7739 - acc: 0.5177\n",
      "Epoch 50/50\n",
      "8252/8252 [==============================] - 6s 700us/step - loss: 7.7739 - acc: 0.5177\n"
     ]
    },
    {
     "data": {
      "text/plain": [
       "<keras.callbacks.History at 0x1e96d44e0>"
      ]
     },
     "execution_count": 130,
     "metadata": {},
     "output_type": "execute_result"
    }
   ],
   "source": [
    "\n",
    "\n",
    "import keras\n",
    "from keras.models import Sequential\n",
    "from keras.layers import Dense, Dropout, Activation\n",
    "from keras.utils import to_categorical\n",
    "\n",
    "\n",
    "model = Sequential()\n",
    "\n",
    "model.add(Dense(100, activation='relu', input_dim=30))\n",
    "model.add(Dropout(0.2))\n",
    "model.add(Dense(100, activation='relu'))\n",
    "model.add(Dropout(0.2))\n",
    "model.add(Dense(100, activation='relu'))\n",
    "model.add(Dropout(0.2))\n",
    "\n",
    "model.add(Dense(1,activation='sigmoid'))\n",
    "\n",
    "adam = keras.optimizers.Adam(lr=0.001, beta_1=0.9, beta_2=0.999, epsilon=1e-08, decay=0.0)\n",
    "model.compile(loss='binary_crossentropy',optimizer=adam, metrics=['accuracy'])\n",
    "\n",
    "\n",
    "#model.compile(optimizer='adam', loss='mean_squared_error')\n",
    "\n",
    "\n",
    "\n",
    "model.fit(train_x, train_y,epochs=50,batch_size=20)\n",
    "\n"
   ]
  },
  {
   "cell_type": "code",
   "execution_count": 131,
   "metadata": {},
   "outputs": [],
   "source": [
    "predict=model.predict(test_x)\n"
   ]
  },
  {
   "cell_type": "code",
   "execution_count": 132,
   "metadata": {},
   "outputs": [],
   "source": [
    "from sklearn.metrics import classification_report"
   ]
  },
  {
   "cell_type": "code",
   "execution_count": 133,
   "metadata": {},
   "outputs": [
    {
     "name": "stdout",
     "output_type": "stream",
     "text": [
      "              precision    recall  f1-score   support\n",
      "\n",
      "           0       0.52      1.00      0.68       618\n",
      "           1       0.00      0.00      0.00       581\n",
      "\n",
      "   micro avg       0.52      0.52      0.52      1199\n",
      "   macro avg       0.26      0.50      0.34      1199\n",
      "weighted avg       0.27      0.52      0.35      1199\n",
      "\n"
     ]
    }
   ],
   "source": [
    "print(classification_report(list(test_y),predict))"
   ]
  },
  {
   "cell_type": "code",
   "execution_count": 134,
   "metadata": {},
   "outputs": [],
   "source": [
    "from sklearn.metrics import accuracy_score"
   ]
  },
  {
   "cell_type": "code",
   "execution_count": 135,
   "metadata": {},
   "outputs": [
    {
     "name": "stdout",
     "output_type": "stream",
     "text": [
      "0.5154295246038365\n"
     ]
    }
   ],
   "source": [
    "print(accuracy_score(list(test_y),predict))"
   ]
  },
  {
   "cell_type": "code",
   "execution_count": null,
   "metadata": {},
   "outputs": [],
   "source": []
  }
 ],
 "metadata": {
  "kernelspec": {
   "display_name": "Python 3",
   "language": "python",
   "name": "python3"
  },
  "language_info": {
   "codemirror_mode": {
    "name": "ipython",
    "version": 3
   },
   "file_extension": ".py",
   "mimetype": "text/x-python",
   "name": "python",
   "nbconvert_exporter": "python",
   "pygments_lexer": "ipython3",
   "version": "3.6.8"
  }
 },
 "nbformat": 4,
 "nbformat_minor": 2
}
